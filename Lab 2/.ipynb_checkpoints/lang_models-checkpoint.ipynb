{
 "cells": [
  {
   "cell_type": "code",
   "execution_count": 4,
   "metadata": {},
   "outputs": [],
   "source": [
    "import regex as re\n",
    "from collections import defaultdict\n",
    "import math\n",
    "import bz2\n",
    "import os\n",
    "import requests\n",
    "import sys\n",
    "from zipfile import ZipFile"
   ]
  },
  {
   "cell_type": "code",
   "execution_count": 5,
   "metadata": {},
   "outputs": [],
   "source": [
    "def read_file(filename):\n",
    "    with open(filename) as f:\n",
    "        return f.read()"
   ]
  },
  {
   "cell_type": "code",
   "execution_count": 8,
   "metadata": {},
   "outputs": [],
   "source": [
    "corpus = read_file(\"./Selma.txt\")\n",
    "pattern = 'Nils Holgersson'\n",
    "width = 25"
   ]
  },
  {
   "cell_type": "code",
   "execution_count": 9,
   "metadata": {},
   "outputs": [
    {
     "name": "stdout",
     "output_type": "stream",
     "text": [
      "Selma Lagerlöf Nils Holgerssons underbara resa genom Sv\n",
      "! Se på Tummetott! Se på Nils Holgersson Tummetott!» Genast vände\n",
      "r,» sade han. »Jag heter Nils Holgersson och är son till en husma\n",
      "lden. »Inte är det värt, Nils Holgersson, att du är ängslig eller\n",
      " i dem. På den tiden, då Nils Holgersson drog omkring med vildgäs\n",
      "ulle allt visa honom vad Nils Holgersson från Västra Vemmenhög va\n",
      "om ägde rum det året, då Nils Holgersson for omkring med vildgäss\n",
      "m vad det kan kosta dem. Nils Holgersson hade inte haft förstånd \n",
      "de det inte mer sägas om Nils Holgersson, att han inte tyckte om \n",
      " Rosenbom?» För där stod Nils Holgersson mitt uppe på Rosenboms n\n",
      " Med ens fingo de syn på Nils Holgersson, och då sköt den store v\n",
      "vila. När vildgässen och Nils Holgersson äntligen hade letat sig \n",
      " slags arbetare. Men vad Nils Holgersson inte såg, det var, att s\n",
      "nde han fråga, och om då Nils Holgersson sade nej, började han ge\n",
      "de lille Mats, och om nu Nils Holgersson också hade tegat, så had\n",
      "åg så försmädlig ut, att Nils Holgersson kastade sig över honom f\n",
      " brodern. Och inte ville Nils Holgersson slåss med en tös, utan h\n",
      "örkar. På den tiden, när Nils Holgersson for omkring med vildgäss\n",
      " ryckte omkull honom. Om Nils Holgersson genast hade ropat på hjä\n",
      "u reda dig på egen hand, Nils Holgersson,» sade han då till sig s\n",
      "r satte Fumle-Drumle ner Nils Holgersson på bottnen av en sandgro\n",
      "mlingarna. – »Jo, jag är Nils Holgersson från Västra Vemmenhög, s\n",
      "rakten. På den tiden, då Nils Holgersson for omkring med vildgäss\n",
      "Jo, det står – Det står: Nils Holgersson fr. V. Vemmenhög.» »Det \n",
      "visan 1 Sveriges karta 2 Nils Holgerssons underbara resa genom Sv\n",
      "admalsvåden 233 ________ Nils Holgerssons underbara resa genom Sv\n",
      "R. Tolv år ungefär innan Nils Holgersson hade börjat resa omkring\n",
      "och leta efter föda, men Nils Holgersson hade på morgonen tappat \n",
      "ill i Närke det året, då Nils Holgersson for fram över landskapet\n",
      "hade flyttat tassen över Nils Holgerssons ansikte, så att den sta\n",
      "29 april. Denna dag fick Nils Holgersson se södra Dalarna. Vildgä\n",
      "rliga sjön. Det året, då Nils Holgersson for med vildgässen genom\n",
      "t skänka upptäckten till Nils Holgersson. Det var ju både det tro\n",
      " som sången varade, stod Nils Holgersson och lyssnade till den, m\n",
      "ova på en vassrugge. Vad Nils Holgersson angår, så var han för hu\n",
      "e svårt för en sådan som Nils Holgersson att finna en farkost. Ha\n",
      "r de hade kommit mittför Nils Holgersson, slogo de sig ner på ett\n",
      " 5 maj. På den tiden, då Nils Holgersson drog genom landet med vi\n",
      "an vara bra lycklig. Att Nils Holgersson, som för ett par timmar \n",
      " afton. Och således hade Nils Holgersson fått se studenterna, när\n",
      "nger under marschen. Men Nils Holgersson hade tyckt, att det inte\n",
      "och glädja så som dessa. Nils Holgersson hade mest sett på studen\n",
      "m, stannade han. »Jag är Nils Holgersson från Västra Vemmenhög,» \n",
      " Ett par år före det, då Nils Holgersson drog omkring med vildgäs\n",
      " detsamma fattade han om Nils Holgersson med sin stora fot, höjde\n",
      "t ingen mer än den lilla Nils Holgersson, som följde henne. Solen\n",
      " voro klädda med is, och Nils Holgersson ville följa henne dit in\n",
      "t Lappland är mitt!» Men Nils Holgersson hade blivit så ängslig, \n",
      " över klippväggarna, och Nils Holgersson kunde förstå, att det va\n",
      " SJUKDOMEN. Det året, då Nils Holgersson for omkring med vildgäss\n",
      "jligt att undgå den. Vad Nils Holgersson beträffar, så hade han h\n",
      "hade hon slagit klorna i Nils Holgerssons skuldra och hackade eft\n",
      "g, att just det året, då Nils Holgersson for omkring med vildgäss\n",
      " lönt att vara bedrövad, Nils Holgersson,» sade solen. »Världen ä\n",
      "åga om han inte kunde ge Nils Holgersson bättre villkor. ’Det öns\n",
      "du vill,’ sade han. ’Med Nils Holgersson blir det ändå så, som ja\n",
      "a haft av honom. Ja, säg Nils Holgersson, att föräldrarna redan h\n",
      "Västergötland. Den lille Nils Holgersson hade krupit upp på en la\n",
      " honom sämre.» Den lille Nils Holgersson hade följt med barnen he\n",
      "e bara störa.» Då tyckte Nils Holgersson, att när ingen annan gjo\n",
      "n färdig att följa det.» Nils Holgersson sprang raskt neråt vägen\n",
      "rott mellan de unga. Vad Nils Holgersson beträffar, så hade han i\n",
      "on gav sig tid att se på Nils Holgersson, innan hon stötte till. \n",
      " ändå alldeles olik. Den Nils Holgersson, som hade farit bort i v\n",
      " tro det. Välkommen hem, Nils Holgersson, välkommen hem! Det här \n",
      "mig här på gården,» sade Nils Holgersson. »Min egen mor tror, att\n",
      "on riktig sjukdom,» sade Nils Holgersson. »Jag får försöka ställa\n",
      "in kniv här på din hov?» Nils Holgersson var nätt och jämnt färdi\n",
      "sslingen, som var så lik Nils Holgersson, att om det inte var han\n",
      "pojken fanns i närheten. Nils Holgersson hörde honom nog, men han\n",
      "ottrar ihop ett tack för Nils Holgersson? Vad skulle det ha blivi\n"
     ]
    }
   ],
   "source": [
    "# spaces match tabs and newlines\n",
    "pattern = re.sub(' ', '\\\\s+', pattern)\n",
    "# Replaces newlines with spaces in the text\n",
    "clean_corpus = re.sub('\\s+', ' ', corpus)\n",
    "concordance = ('(.{{0,{width}}}{pattern}.{{0,{width}}})'\n",
    "               .format(pattern=pattern, width=width))\n",
    "for match in re.finditer(concordance, clean_corpus):\n",
    "    print(match.group(1))\n",
    "# print the string with 0..width characters on either side"
   ]
  },
  {
   "cell_type": "code",
   "execution_count": 95,
   "metadata": {},
   "outputs": [],
   "source": [
    "def tokenize(text):\n",
    "    words = re.findall('[\\p{L}<>/]+', text)\n",
    "    return words\n",
    "\n",
    "#def get_words(text, regex=re.compile('[\\p{L}<>/]+')):\n",
    "#    return re.findall(regex, text.lower())"
   ]
  },
  {
   "cell_type": "code",
   "execution_count": 13,
   "metadata": {},
   "outputs": [
    {
     "data": {
      "text/plain": [
       "['Selma',\n",
       " 'Lagerlöf',\n",
       " 'Nils',\n",
       " 'Holgerssons',\n",
       " 'underbara',\n",
       " 'resa',\n",
       " 'genom',\n",
       " 'Sverige',\n",
       " 'Första',\n",
       " 'bandet']"
      ]
     },
     "execution_count": 13,
     "metadata": {},
     "output_type": "execute_result"
    }
   ],
   "source": [
    "words = tokenize(corpus)\n",
    "words[:10]"
   ]
  },
  {
   "cell_type": "code",
   "execution_count": 16,
   "metadata": {},
   "outputs": [
    {
     "name": "stdout",
     "output_type": "stream",
     "text": [
      "44256\n",
      "41032\n"
     ]
    }
   ],
   "source": [
    "print(len(set(words)))\n",
    "print(len(set(tokenize(corpus.lower()))))\n"
   ]
  },
  {
   "cell_type": "code",
   "execution_count": 96,
   "metadata": {},
   "outputs": [
    {
     "data": {
      "text/plain": [
       "'En gång hade de på Mårbacka en barnpiga som hette Back Kajsa. Hon var nog sina tre alnar lång hon hade ett stort grovt ansikte med stränga mörka drag hennes händer voro hårda och fulla av sprickor som barnens hår fastnade i när hon kammade dem och till humöret var hon dyster och sorgbunden.'"
      ]
     },
     "execution_count": 96,
     "metadata": {},
     "output_type": "execute_result"
    }
   ],
   "source": [
    "def clean(corpus, nonletter = r'[^\\.;:\\?\\!\\p{L}\\s]'):\n",
    "    cln = re.sub(nonletter, ' ', corpus)\n",
    "    return re.sub('\\s+', ' ', cln)\n",
    "\n",
    "\n",
    "test_para = 'En gång hade de på Mårbacka en barnpiga, som hette Back-Kajsa. \\\n",
    "Hon var nog sina tre alnar lång, hon hade ett stort, grovt ansikte med stränga, mörka drag, \\\n",
    "hennes händer voro hårda och fulla av sprickor, som barnens hår fastnade i, \\\n",
    "när hon kammade dem, och till humöret var hon dyster och sorgbunden.'\n",
    "\n",
    "clean_para = clean(test_para)\n",
    "clean_para"
   ]
  },
  {
   "cell_type": "code",
   "execution_count": 97,
   "metadata": {},
   "outputs": [],
   "source": [
    "def find_pattern(text, pattern=r'([\\.;:\\?\\!])\\s+\\p{Lu}'):\n",
    "    regex = re.compile(pattern)\n",
    "    return re.finditer(regex, text)\n",
    "\n",
    "def normalize(text):\n",
    "    #text = text.replace('\\n', ' ')\n",
    "    sentence_idxs = find_pattern(text)\n",
    "    start = 0\n",
    "    normalized_text = ''\n",
    "    for idx in sentence_idxs:\n",
    "        end = idx.start()\n",
    "        sentence = text[start: end]\n",
    "        normalized_text += '<s> ' + sentence.strip() + ' </s>\\n'\n",
    "        start = end + 2\n",
    "    normalized_text += '<s> ' + text[start:].strip()[:-1] + ' </s>'\n",
    "    return normalized_text"
   ]
  },
  {
   "cell_type": "code",
   "execution_count": 81,
   "metadata": {},
   "outputs": [
    {
     "name": "stdout",
     "output_type": "stream",
     "text": [
      "<s> En gång hade de på Mårbacka en barnpiga, som hette Back-Kajsa </s>\n",
      "<s> Hon var nog sina tre alnar lång, hon hade ett stort, grovt ansikte med stränga, mörka drag, hennes händer voro hårda och fulla av sprickor, som barnens hår fastnade i, när hon kammade dem, och till humöret var hon dyster och sorgbunden </s>\n"
     ]
    }
   ],
   "source": [
    "normalized_test_para = normalize(test_para)\n",
    "print(test)"
   ]
  },
  {
   "cell_type": "code",
   "execution_count": 82,
   "metadata": {},
   "outputs": [],
   "source": [
    "def segment_sentences(text):\n",
    "    normalized_text = normalize(text)\n",
    "    return normalized_text.lower()"
   ]
  },
  {
   "cell_type": "code",
   "execution_count": 98,
   "metadata": {},
   "outputs": [
    {
     "name": "stdout",
     "output_type": "stream",
     "text": [
      "<s> hon hade fått större kärlek av sina föräldrar än någon annan han visste och sådan kärlek måste vändas i välsignelse </s>\n",
      "<s> då prästen sade detta kom alla människor att se bort mot klara gulla och de förundrade sig över vad de såg </s>\n",
      "<s> prästens ord tycktes redan ha gått i uppfyllelse </s>\n",
      "<s> där stod klara fina gulleborg ifrån skrolycka hon som var uppkallad efter själva solen vid sina föräldrars grav och lyste som en förklarad </s>\n",
      "<s> hon var likaså vacker som den söndagen då hon gick till kyrkan i den röda klänningen om inte vackrare </s>\n"
     ]
    }
   ],
   "source": [
    "clean_corpus = clean(corpus)\n",
    "sentences = segment_sentences(clean_corpus)\n",
    "print(sentences[-557:])"
   ]
  },
  {
   "cell_type": "code",
   "execution_count": 99,
   "metadata": {},
   "outputs": [
    {
     "name": "stdout",
     "output_type": "stream",
     "text": [
      "['<s>', 'hon', 'hade', 'fått', 'större', 'kärlek', 'av', 'sina', 'föräldrar', 'än', 'någon', 'annan', 'han', 'visste', 'och', 'sådan', 'kärlek', 'måste', 'vändas', 'i', 'välsignelse', '</s>', '<s>', 'då', 'prästen', 'sade', 'detta', 'kom', 'alla', 'människor', 'att', 'se', 'bort', 'mot', 'klara', 'gulla', 'och', 'de', 'förundrade', 'sig', 'över', 'vad', 'de', 'såg', '</s>', '<s>', 'prästens', 'ord', 'tycktes', 'redan', 'ha', 'gått', 'i', 'uppfyllelse', '</s>', '<s>', 'där', 'stod', 'klara', 'fina', 'gulleborg', 'ifrån', 'skrolycka', 'hon', 'som', 'var', 'uppkallad', 'efter', 'själva', 'solen', 'vid', 'sina', 'föräldrars', 'grav', 'och', 'lyste', 'som', 'en', 'förklarad', '</s>', '<s>', 'hon', 'var', 'likaså', 'vacker', 'som', 'den', 'söndagen', 'då', 'hon', 'gick', 'till', 'kyrkan', 'i', 'den', 'röda', 'klänningen', 'om', 'inte', 'vackrare', '</s>']\n"
     ]
    }
   ],
   "source": [
    "words = tokenize(sentences)\n",
    "print(words[-101:])"
   ]
  },
  {
   "cell_type": "code",
   "execution_count": 93,
   "metadata": {},
   "outputs": [],
   "source": [
    "def get_ngrams(words, n):\n",
    "    num_words = len(words)\n",
    "    ngrams = [tuple(words[i: i + n]) for i in range(num_words - n + 1)]\n",
    "    ngrams_dict = defaultdict(int)\n",
    "    for ngram in ngrams:\n",
    "        ngrams_dict[ngram] += 1\n",
    "    return ngrams_dict, len(ngrams)"
   ]
  },
  {
   "cell_type": "code",
   "execution_count": 100,
   "metadata": {},
   "outputs": [],
   "source": [
    "freq_unigrams, num_unigrams = get_ngrams(words, n=1)\n",
    "freq_bigrams, num_bigrams = get_ngrams(words, n=2)"
   ]
  },
  {
   "cell_type": "code",
   "execution_count": 102,
   "metadata": {},
   "outputs": [],
   "source": [
    "def tabulate_unigram(sentence, freq_unigrams, num_unigrams):\n",
    "    prob_unigrams = {k: v / num_unigrams for k, v in freq_unigrams.items()}\n",
    "    sentence = sentence.strip().split(' ')\n",
    "    prob_sentence = 1\n",
    "    \n",
    "    print('========================================')\n",
    "    print('wi        C(wi)       #words       P(wi)')\n",
    "    print('========================================')\n",
    "    \n",
    "    for word in sentence:\n",
    "        prob_sentence *= prob_unigrams[(word, )]\n",
    "        print(word + '     ' + str(freq_unigrams[(word, )]) + '     ' +\n",
    "              str(num_unigrams) + '       ' + str(prob_unigrams[(word, )]))\n",
    "    \n",
    "    words_in_sentence = len(sentence)\n",
    "    entropy = -math.log(prob_sentence, 2) / words_in_sentence\n",
    "    \n",
    "    print('========================================')\n",
    "    print('Prob. Sentence:', prob_sentence)\n",
    "    print('Geo. Mean:', prob_sentence ** (1 / words_in_sentence))\n",
    "    print('Entropy rate:', entropy)\n",
    "    print('Perplexity:', 2 ** entropy)\n",
    "    return (2 ** entropy)"
   ]
  },
  {
   "cell_type": "code",
   "execution_count": 134,
   "metadata": {},
   "outputs": [
    {
     "name": "stdout",
     "output_type": "stream",
     "text": [
      "========================================\n",
      "wi        C(wi)       #words       P(wi)\n",
      "========================================\n",
      "det     21108     1041579       0.020265385534846612\n",
      "var     12090     1041579       0.011607376876837956\n",
      "en     13514     1041579       0.012974531936607785\n",
      "gång     1332     1041579       0.0012788276261330154\n",
      "en     13514     1041579       0.012974531936607785\n",
      "katt     16     1041579       1.5361292806402586e-05\n",
      "som     16288     1041579       0.015637796076917832\n",
      "hette     97     1041579       9.312783763881568e-05\n",
      "nils     87     1041579       8.352702963481407e-05\n",
      "</s>     59047     1041579       0.056689891021228345\n",
      "========================================\n",
      "Prob. Sentence: 5.364136934636431e-27\n",
      "Geo. Mean: 0.0023602064104148853\n",
      "Entropy rate: 8.726871249541004\n",
      "Perplexity: 423.6917566138702\n"
     ]
    }
   ],
   "source": [
    "sent = 'det var en gång en katt som hette nils </s>'\n",
    "perplexity_unigram = tabulate_unigram(sent, freq_unigrams, num_unigrams)\n",
    "perplexity_unigrams = int(perplexity_unigram)"
   ]
  },
  {
   "cell_type": "code",
   "execution_count": 135,
   "metadata": {},
   "outputs": [],
   "source": [
    "def tabulate_bigram(sentence, freq_bigrams, num_bigrams, freq_unigrams, prob_unigrams):\n",
    "    sentence = sentence.strip().split(' ')\n",
    "    prob_sentence = 1\n",
    "    \n",
    "    print('========================================')\n",
    "    print('wi   wi+i   Ci,i+1    C(i)   P(wi+1|wi)')\n",
    "    print('========================================')\n",
    "    \n",
    "    words_in_sentence = len(sentence)\n",
    "    \n",
    "    for i in range(words_in_sentence - 1):\n",
    "        conditional_prob = freq_bigrams[(sentence[i], sentence[i+1])] / freq_unigrams[(sentence[i], )]\n",
    "        \n",
    "        _string = sentence[i] + '  ' + sentence[i+1] + '  ' + str(freq_bigrams[(sentence[i], sentence[i+1])]) \\\n",
    "              + '  ' + str(freq_unigrams[(sentence[i], )])\n",
    "        \n",
    "        if conditional_prob:\n",
    "            prob_sentence *= conditional_prob\n",
    "            _string += '  ' + str(conditional_prob)\n",
    "            \n",
    "        else:\n",
    "            prob_sentence *= prob_unigrams[(sentence[i+1], )]\n",
    "            _string += '  ' + '*Backoff  ' + str(prob_unigrams[(sentence[i+1], )])\n",
    "            \n",
    "        print(_string)\n",
    "    \n",
    "    \n",
    "    entropy = -math.log(prob_sentence, 2) / (words_in_sentence-1)\n",
    "    \n",
    "    print('========================================')\n",
    "    print('Prob. Sentence:', prob_sentence)\n",
    "    print('Geo. Mean:', prob_sentence ** (1 / (words_in_sentence-1)))\n",
    "    print('Entropy rate:', entropy)\n",
    "    print('Perplexity:', 2 ** entropy)\n",
    "    return (2 ** entropy)"
   ]
  },
  {
   "cell_type": "code",
   "execution_count": 136,
   "metadata": {},
   "outputs": [
    {
     "name": "stdout",
     "output_type": "stream",
     "text": [
      "========================================\n",
      "wi   wi+i   Ci,i+1    C(i)   P(wi+1|wi)\n",
      "========================================\n",
      "<s>  det  5672  59047  0.09605907158704083\n",
      "det  var  3839  21108  0.1818741709304529\n",
      "var  en  712  12090  0.058891645988420185\n",
      "en  gång  706  13514  0.052242119283705785\n",
      "gång  en  20  1332  0.015015015015015015\n",
      "en  katt  6  13514  0.0004439840165754033\n",
      "katt  som  2  16  0.125\n",
      "som  hette  45  16288  0.002762770137524558\n",
      "hette  nils  0  97  *Backoff  8.352702963481407e-05\n",
      "nils  </s>  2  87  0.022988505747126436\n",
      "========================================\n",
      "Prob. Sentence: 2.376126423796318e-19\n",
      "Geo. Mean: 0.013727357824989852\n",
      "Entropy rate: 6.186802220488124\n",
      "Perplexity: 72.84723052673391\n"
     ]
    }
   ],
   "source": [
    "sent2 = '<s> det var en gång en katt som hette nils </s>'\n",
    "prob_unigrams = {k: v / num_unigrams for k, v in freq_unigrams.items()}\n",
    "perplexity_bigram = tabulate_bigram(sent2, freq_bigrams, num_bigrams, freq_unigrams, prob_unigrams)\n",
    "perplexity_bigrams = int(perplexity_bigram)"
   ]
  },
  {
   "cell_type": "code",
   "execution_count": 118,
   "metadata": {},
   "outputs": [
    {
     "data": {
      "text/plain": [
       "330"
      ]
     },
     "execution_count": 118,
     "metadata": {},
     "output_type": "execute_result"
    }
   ],
   "source": [
    "freq_trigrams, num_trigrams = get_ngrams(words, n=3)\n",
    "freq_trigrams[('det', 'var', 'en')]"
   ]
  },
  {
   "cell_type": "code",
   "execution_count": 184,
   "metadata": {},
   "outputs": [],
   "source": [
    "def trigram_prob(sentence, freq_bigrams, freq_trigrams):\n",
    "    prob_sentence = 1\n",
    "    words_in_sentence = len(sentence)\n",
    "    \n",
    "    for i in range(words_in_sentence - 2):\n",
    "        \n",
    "        if freq_bigrams[(sentence[i], sentence[i+1])]:\n",
    "            conditional_prob = freq_trigrams[(sentence[i], sentence[i+1], sentence[i+2])] \\\n",
    "                                / freq_bigrams[(sentence[i], sentence[i+1])]\n",
    "        else:\n",
    "            prob_sentence = 0\n",
    "            break\n",
    "            \n",
    "        prob_sentence *= conditional_prob\n",
    "            \n",
    "    return prob_sentence"
   ]
  },
  {
   "cell_type": "code",
   "execution_count": 202,
   "metadata": {},
   "outputs": [
    {
     "name": "stdout",
     "output_type": "stream",
     "text": [
      "['sådan']\n"
     ]
    }
   ],
   "source": [
    "starting_text = 'De'.lower()\n",
    "cand_nbr = 5\n",
    "\n",
    "pos_words = {}\n",
    "for (w1, w2), freq in freq_bigrams.items():\n",
    "    if w1 == '<s>' and w2[:len(starting_text)] == starting_text:\n",
    "        pos_words[w2] = freq\n",
    "        \n",
    "pos_words = {k: v for k, v in sorted(pos_words.items(), key=lambda item: item[1], reverse=True)}\n",
    "current_word_predictions_1 = []\n",
    "\n",
    "i = 0\n",
    "for word in pos_words:\n",
    "    i = i+1\n",
    "    current_word_predictions_1.append(word)\n",
    "    if i == 5:\n",
    "        break\n",
    "\n",
    "print(current_word_predictions_1)"
   ]
  },
  {
   "cell_type": "code",
   "execution_count": 201,
   "metadata": {},
   "outputs": [
    {
     "name": "stdout",
     "output_type": "stream",
     "text": [
      "['stor', 'liten', 'gammal', 'god', 'sådan']\n"
     ]
    }
   ],
   "source": [
    "current_text = \"Det var en\".lower()\n",
    "tokens = tokenize(current_text)\n",
    "tokens\n",
    "\n",
    "pos_words = []\n",
    "for (w1, w2, w3), freq in freq_trigrams.items():\n",
    "    if w1 == tokens[-2] and w2 == tokens[-1]:\n",
    "        pos_words.append(w3)\n",
    "        \n",
    "sentence_probs = {word: trigram_prob(tokens + [word], freq_bigrams, freq_trigrams) for word in pos_words}\n",
    "\n",
    "pos_words = {k: v for k, v in sorted(sentence_probs.items(), key=lambda item: item[1], reverse=True)}\n",
    "\n",
    "i = 0\n",
    "next_word_predictions = []\n",
    "for word in pos_words:\n",
    "    i += 1\n",
    "    next_word_predictions.append(word)\n",
    "    if i == 5:\n",
    "        break\n",
    "        \n",
    "print(next_word_predictions)"
   ]
  },
  {
   "cell_type": "code",
   "execution_count": 200,
   "metadata": {},
   "outputs": [
    {
     "name": "stdout",
     "output_type": "stream",
     "text": [
      "gång 0.0012073017610508354\n",
      "grov 0.00012073017610508354\n",
      "gås 0.00012073017610508354\n",
      "gammal 0.002293873345996587\n",
      "god 0.00205241299378642\n",
      "gruvarbetare 0.00012073017610508354\n",
      "gruva 0.00012073017610508354\n",
      "glad 0.00012073017610508354\n",
      "gammaldags 0.00012073017610508354\n",
      "graf 0.00012073017610508354\n",
      "gengångare 0.00012073017610508354\n",
      "getabock 0.00012073017610508354\n",
      "gåva 0.00012073017610508354\n",
      "glänsande 0.00012073017610508354\n",
      "grann 0.00024146035221016707\n",
      "gränsbo 0.00012073017610508354\n",
      "ganska 0.0003621905283152506\n",
      "glädje 0.00024146035221016707\n",
      "gagnlös 0.00012073017610508354\n",
      "godmodig 0.00012073017610508354\n",
      "gård 0.00012073017610508354\n",
      "gosse 0.00012073017610508354\n",
      "gast 0.00012073017610508354\n",
      "gudsförnekare 0.00012073017610508354\n",
      "glittrande 0.00012073017610508354\n",
      "gråvädersdag 0.00012073017610508354\n",
      "g 0.0\n",
      "['gammal', 'god', 'gång', 'ganska', 'grann']\n"
     ]
    }
   ],
   "source": [
    "current_text = \"Det var en g\".lower()\n",
    "tokens = tokenize(current_text)\n",
    "\n",
    "pos_words = []\n",
    "for (w1, w2, w3), freq in freq_trigrams.items():\n",
    "    if w1 == tokens[-3] and w2 == tokens[-2] and w3[:len(tokens[-1])] == tokens[-1]:\n",
    "        pos_words.append(w3)\n",
    "\n",
    "sentence_probs = {word: trigram_prob(tokens[:-1] + [word], freq_bigrams, freq_trigrams) for word in pos_words}\n",
    "\n",
    "for word, prob in sentence_probs.items():\n",
    "    print(word, prob)\n",
    "\n",
    "pos_words = {k: v for k, v in sorted(sentence_probs.items(), key=lambda item: item[1], reverse=True)}\n",
    "\n",
    "current_word_predictions_2 = []\n",
    "i = 0\n",
    "for word in pos_words:\n",
    "    i += 1\n",
    "    current_word_predictions_2.append(word)\n",
    "    if i == 5:\n",
    "        break\n",
    "        \n",
    "print(current_word_predictions_2)"
   ]
  },
  {
   "cell_type": "code",
   "execution_count": 176,
   "metadata": {},
   "outputs": [],
   "source": [
    "STIL_ID = [\"ri8166bo-s\", \"er4057ro-s\"] # Write your stil ids as a list\n",
    "CURRENT_NOTEBOOK_PATH = os.path.join(os.getcwd(), \n",
    "                                     \"lang_models.ipynb\") # Write the name of your notebook"
   ]
  },
  {
   "cell_type": "code",
   "execution_count": 177,
   "metadata": {},
   "outputs": [
    {
     "data": {
      "text/plain": [
       "\"(423, 72, ['det', 'de', 'den', 'dem', 'detta'], ['stor', 'liten', 'gammal', 'god', 'sådan'], ['gammal', 'god', 'gång', 'ganska', 'grann'])\""
      ]
     },
     "execution_count": 177,
     "metadata": {},
     "output_type": "execute_result"
    }
   ],
   "source": [
    "ANSWER = str((perplexity_unigrams, perplexity_bigrams, current_word_predictions_1, next_word_predictions, current_word_predictions_2))\n",
    "ANSWER"
   ]
  },
  {
   "cell_type": "code",
   "execution_count": 178,
   "metadata": {},
   "outputs": [],
   "source": [
    "SUBMISSION_NOTEBOOK_PATH = CURRENT_NOTEBOOK_PATH + \".submission.bz2\"\n"
   ]
  },
  {
   "cell_type": "code",
   "execution_count": 179,
   "metadata": {},
   "outputs": [],
   "source": [
    "ASSIGNMENT = 2\n",
    "API_KEY = \"f581ba347babfea0b8f2c74a3a6776a7\"\n",
    "\n",
    "# Copy and compress current notebook\n",
    "with bz2.open(SUBMISSION_NOTEBOOK_PATH, mode=\"wb\") as fout:\n",
    "    with open(CURRENT_NOTEBOOK_PATH, \"rb\") as fin:\n",
    "        fout.write(fin.read())"
   ]
  },
  {
   "cell_type": "code",
   "execution_count": 180,
   "metadata": {},
   "outputs": [
    {
     "data": {
      "text/plain": [
       "{'msg': None,\n",
       " 'status': 'incorrect',\n",
       " 'signature': None,\n",
       " 'submission_id': '6ff6eacc-7903-44f1-adaf-6bba985d3b6f'}"
      ]
     },
     "execution_count": 180,
     "metadata": {},
     "output_type": "execute_result"
    }
   ],
   "source": [
    "res = requests.post(\"https://vilde.cs.lth.se/edan20checker/submit\", \n",
    "                    files={\"notebook_file\": open(SUBMISSION_NOTEBOOK_PATH, \"rb\")}, \n",
    "                    data={\n",
    "                        \"stil_id\": STIL_ID,\n",
    "                        \"assignment\": ASSIGNMENT,\n",
    "                        \"answer\": ANSWER,\n",
    "                        \"api_key\": API_KEY,\n",
    "                    },\n",
    "                   verify=True)\n",
    "\n",
    "# from IPython.display import display, JSON\n",
    "res.json()"
   ]
  },
  {
   "cell_type": "code",
   "execution_count": null,
   "metadata": {},
   "outputs": [],
   "source": []
  }
 ],
 "metadata": {
  "kernelspec": {
   "display_name": "Python 3",
   "language": "python",
   "name": "python3"
  },
  "language_info": {
   "codemirror_mode": {
    "name": "ipython",
    "version": 3
   },
   "file_extension": ".py",
   "mimetype": "text/x-python",
   "name": "python",
   "nbconvert_exporter": "python",
   "pygments_lexer": "ipython3",
   "version": "3.8.3"
  }
 },
 "nbformat": 4,
 "nbformat_minor": 4
}
